{
  "cells": [
    {
      "cell_type": "markdown",
      "metadata": {},
      "source": [
        "# **EXPLORATORY DATA ANALYSIS**\n",
        "This notebook performs an in-depth exploratory data analysis of the UPSTOtrain dataset. The goal is to gain insights into the structure and content of data, identify trends or anomalies, and prepare the dataset for downstream applications.\n",
        "We primarily work with SMILES strings representing chemical structures of reactants and products. RDKit is used for cheminformatics operations."
      ]
    },
    {
      "cell_type": "code",
      "execution_count": 1,
      "metadata": {
        "id": "x16TDXLOlGD6"
      },
      "outputs": [],
      "source": [
        "import pandas as pd\n",
        "from rdkit import Chem\n",
        "from rdkit.Chem import Descriptors\n",
        "import seaborn as sns\n",
        "import matplotlib.pyplot as plt\n",
        "from scipy.stats import zscore"
      ]
    },
    {
      "cell_type": "markdown",
      "metadata": {
        "id": "vBkEhTS13vre"
      },
      "source": [
        "# **Importing and Inspecting the Data**"
      ]
    },
    {
      "cell_type": "markdown",
      "metadata": {},
      "source": [
        "We begin by loading the dataset and examining its structure. This includes checking the number of entries, available columns, and the type of data in each column.\n",
        "\n",
        "Initial checks help ensure data integrity and help identify potential issues such as missing values or unexpected formats."
      ]
    },
    {
      "cell_type": "code",
      "execution_count": 3,
      "metadata": {
        "colab": {
          "base_uri": "https://localhost:8080/"
        },
        "id": "qEd44RsvmUZu",
        "outputId": "e8595b5a-5b99-43ac-8e0b-03a1518e156e"
      },
      "outputs": [
        {
          "name": "stdout",
          "output_type": "stream",
          "text": [
            "Dataset shape: (7704, 2) (rows, columns)\n",
            "\n",
            "First 5 rows:\n",
            "                                            Reactant  \\\n",
            "0  C O C C Br . O = c 1 c ( O ) c n ( - c 2 c c c...   \n",
            "1  C 1 C O C C N 1 . C c 1 c ( N C ( = O ) C Br )...   \n",
            "2  Br P ( Br ) Br . C S ( = O ) ( = O ) c 1 c c c...   \n",
            "3  C c 1 s c ( N C c 2 c c c c c 2 ) c ( C # N ) ...   \n",
            "4  C C ( C ) ( C ) O C ( = O ) N C C ( C ) ( C ) ...   \n",
            "\n",
            "                                             Product  \n",
            "0  C O C C O c 1 c n ( - c 2 c c c c ( C ( F ) ( ...  \n",
            "1  C c 1 c ( N C ( = O ) C N 2 C C O C C 2 ) c c ...  \n",
            "2     C S ( = O ) ( = O ) c 1 c c c ( C Br ) c c 1 F  \n",
            "3  C c 1 s c ( N ( C c 2 c c c c c 2 ) C ( = S ) ...  \n",
            "4  C C ( C ) ( C N ) c 1 c c 2 c c ( N C ( = O ) ...  \n",
            "\n",
            "Column names:\n",
            "['Reactant', 'Product']\n",
            "\n",
            "Missing values per column:\n",
            "Reactant    0\n",
            "Product     0\n",
            "dtype: int64\n",
            "\n",
            "Data types:\n",
            "Reactant    object\n",
            "Product     object\n",
            "dtype: object\n",
            "\n",
            "Summary statistics:\n",
            "                                         Reactant  \\\n",
            "count                                        7704   \n",
            "unique                                       7634   \n",
            "top     C c 1 n c ( Br ) c c c 1 Br . N # C [Cu]    \n",
            "freq                                            3   \n",
            "\n",
            "                               Product  \n",
            "count                             7704  \n",
            "unique                            7642  \n",
            "top     C c 1 n c ( C # N ) c c c 1 Br  \n",
            "freq                                 3  \n",
            "\n",
            "Number of duplicate rows: 62\n",
            "\n",
            "Number of rows with blank (empty string) entries:\n",
            "Reactant    0\n",
            "Product     0\n",
            "dtype: int64\n"
          ]
        }
      ],
      "source": [
        "df = pd.read_csv('UPSTOtrain.csv')\n",
        "df.columns = ['Reactant', 'Product']\n",
        "\n",
        "#Check dataset shape\n",
        "print(f\"Dataset shape: {df.shape} (rows, columns)\")\n",
        "\n",
        "#Preview first few rows\n",
        "print(\"\\nFirst 5 rows:\")\n",
        "print(df.head())\n",
        "\n",
        "#Column names\n",
        "print(\"\\nColumn names:\")\n",
        "print(df.columns.tolist())\n",
        "\n",
        "#Missing values summary\n",
        "print(\"\\nMissing values per column:\")\n",
        "print(df.isnull().sum())\n",
        "\n",
        "#Data types of each column\n",
        "print(\"\\nData types:\")\n",
        "print(df.dtypes)\n",
        "\n",
        "#Summary statistics for numerical columns (if any)\n",
        "print(\"\\nSummary statistics:\")\n",
        "print(df.describe(include='all'))\n",
        "\n",
        "#Check for duplicate rows\n",
        "duplicates = df.duplicated().sum()\n",
        "print(f\"\\nNumber of duplicate rows: {duplicates}\")\n",
        "\n",
        "#Check for inconsistencies: whitespace, empty strings\n",
        "print(\"\\nNumber of rows with blank (empty string) entries:\")\n",
        "blank_counts = (df == '').sum()\n",
        "print(blank_counts)\n"
      ]
    },
    {
      "cell_type": "code",
      "execution_count": 4,
      "metadata": {
        "colab": {
          "base_uri": "https://localhost:8080/",
          "height": 423
        },
        "id": "G5aGJRa-gnaw",
        "outputId": "2ea8a627-8d31-4e2e-fcb0-44c480374050"
      },
      "outputs": [
        {
          "data": {
            "text/html": [
              "<div>\n",
              "<style scoped>\n",
              "    .dataframe tbody tr th:only-of-type {\n",
              "        vertical-align: middle;\n",
              "    }\n",
              "\n",
              "    .dataframe tbody tr th {\n",
              "        vertical-align: top;\n",
              "    }\n",
              "\n",
              "    .dataframe thead th {\n",
              "        text-align: right;\n",
              "    }\n",
              "</style>\n",
              "<table border=\"1\" class=\"dataframe\">\n",
              "  <thead>\n",
              "    <tr style=\"text-align: right;\">\n",
              "      <th></th>\n",
              "      <th>Reactant</th>\n",
              "      <th>Product</th>\n",
              "    </tr>\n",
              "  </thead>\n",
              "  <tbody>\n",
              "    <tr>\n",
              "      <th>0</th>\n",
              "      <td>C O C C Br . O = c 1 c ( O ) c n ( - c 2 c c c...</td>\n",
              "      <td>C O C C O c 1 c n ( - c 2 c c c c ( C ( F ) ( ...</td>\n",
              "    </tr>\n",
              "    <tr>\n",
              "      <th>1</th>\n",
              "      <td>C 1 C O C C N 1 . C c 1 c ( N C ( = O ) C Br )...</td>\n",
              "      <td>C c 1 c ( N C ( = O ) C N 2 C C O C C 2 ) c c ...</td>\n",
              "    </tr>\n",
              "    <tr>\n",
              "      <th>2</th>\n",
              "      <td>Br P ( Br ) Br . C S ( = O ) ( = O ) c 1 c c c...</td>\n",
              "      <td>C S ( = O ) ( = O ) c 1 c c c ( C Br ) c c 1 F</td>\n",
              "    </tr>\n",
              "    <tr>\n",
              "      <th>3</th>\n",
              "      <td>C c 1 s c ( N C c 2 c c c c c 2 ) c ( C # N ) ...</td>\n",
              "      <td>C c 1 s c ( N ( C c 2 c c c c c 2 ) C ( = S ) ...</td>\n",
              "    </tr>\n",
              "    <tr>\n",
              "      <th>4</th>\n",
              "      <td>C C ( C ) ( C ) O C ( = O ) N C C ( C ) ( C ) ...</td>\n",
              "      <td>C C ( C ) ( C N ) c 1 c c 2 c c ( N C ( = O ) ...</td>\n",
              "    </tr>\n",
              "    <tr>\n",
              "      <th>...</th>\n",
              "      <td>...</td>\n",
              "      <td>...</td>\n",
              "    </tr>\n",
              "    <tr>\n",
              "      <th>7699</th>\n",
              "      <td>C C O C ( = O ) N c 1 n c 2 c c c ( C ) c c 2 ...</td>\n",
              "      <td>C O c 1 n c 2 c c ( C ) c c c 2 n c 1 N C ( = ...</td>\n",
              "    </tr>\n",
              "    <tr>\n",
              "      <th>7700</th>\n",
              "      <td>C C ( C ) ( C ) c 1 c c c c ( O ) c 1 . C c 1 ...</td>\n",
              "      <td>C c 1 c c ( [N+] ( = O ) [O-] ) c n c 1 O c 1 ...</td>\n",
              "    </tr>\n",
              "    <tr>\n",
              "      <th>7701</th>\n",
              "      <td>C O C c 1 c c c c ( C ( = O ) c 2 n n n n 2 C ...</td>\n",
              "      <td>C O C c 1 c c c c ( C ( = N O ) c 2 n n n n 2 ...</td>\n",
              "    </tr>\n",
              "    <tr>\n",
              "      <th>7702</th>\n",
              "      <td>C C ( C ) ( C ) O C ( = O ) N 1 C C C ( = O ) ...</td>\n",
              "      <td>C n 1 c c n c 1 C 1 ( O ) C C N ( C ( = O ) O ...</td>\n",
              "    </tr>\n",
              "    <tr>\n",
              "      <th>7703</th>\n",
              "      <td>Br c 1 c n [nH] c 1 . C C ( C ) ( C ) C ( = O ...</td>\n",
              "      <td>C C ( C ) ( C ) C ( = O ) N c 1 n c c c c 1 - ...</td>\n",
              "    </tr>\n",
              "  </tbody>\n",
              "</table>\n",
              "<p>7704 rows × 2 columns</p>\n",
              "</div>"
            ],
            "text/plain": [
              "                                               Reactant  \\\n",
              "0     C O C C Br . O = c 1 c ( O ) c n ( - c 2 c c c...   \n",
              "1     C 1 C O C C N 1 . C c 1 c ( N C ( = O ) C Br )...   \n",
              "2     Br P ( Br ) Br . C S ( = O ) ( = O ) c 1 c c c...   \n",
              "3     C c 1 s c ( N C c 2 c c c c c 2 ) c ( C # N ) ...   \n",
              "4     C C ( C ) ( C ) O C ( = O ) N C C ( C ) ( C ) ...   \n",
              "...                                                 ...   \n",
              "7699  C C O C ( = O ) N c 1 n c 2 c c c ( C ) c c 2 ...   \n",
              "7700  C C ( C ) ( C ) c 1 c c c c ( O ) c 1 . C c 1 ...   \n",
              "7701  C O C c 1 c c c c ( C ( = O ) c 2 n n n n 2 C ...   \n",
              "7702  C C ( C ) ( C ) O C ( = O ) N 1 C C C ( = O ) ...   \n",
              "7703  Br c 1 c n [nH] c 1 . C C ( C ) ( C ) C ( = O ...   \n",
              "\n",
              "                                                Product  \n",
              "0     C O C C O c 1 c n ( - c 2 c c c c ( C ( F ) ( ...  \n",
              "1     C c 1 c ( N C ( = O ) C N 2 C C O C C 2 ) c c ...  \n",
              "2        C S ( = O ) ( = O ) c 1 c c c ( C Br ) c c 1 F  \n",
              "3     C c 1 s c ( N ( C c 2 c c c c c 2 ) C ( = S ) ...  \n",
              "4     C C ( C ) ( C N ) c 1 c c 2 c c ( N C ( = O ) ...  \n",
              "...                                                 ...  \n",
              "7699  C O c 1 n c 2 c c ( C ) c c c 2 n c 1 N C ( = ...  \n",
              "7700  C c 1 c c ( [N+] ( = O ) [O-] ) c n c 1 O c 1 ...  \n",
              "7701  C O C c 1 c c c c ( C ( = N O ) c 2 n n n n 2 ...  \n",
              "7702  C n 1 c c n c 1 C 1 ( O ) C C N ( C ( = O ) O ...  \n",
              "7703  C C ( C ) ( C ) C ( = O ) N c 1 n c c c c 1 - ...  \n",
              "\n",
              "[7704 rows x 2 columns]"
            ]
          },
          "execution_count": 4,
          "metadata": {},
          "output_type": "execute_result"
        }
      ],
      "source": [
        "df"
      ]
    },
    {
      "cell_type": "markdown",
      "metadata": {
        "id": "bv3Ry26t4_LO"
      },
      "source": [
        "Issues:-\n",
        "\n",
        "\n",
        "*  SMILES Strings Are Spaced Out\n",
        "*  62 duplicate reactions\n",
        "\n"
      ]
    },
    {
      "cell_type": "code",
      "execution_count": 5,
      "metadata": {
        "id": "7aCDTm8Nt0-f"
      },
      "outputs": [],
      "source": [
        "# Clean spaces from SMILES strings\n",
        "df['Reactant'] = df['Reactant'].str.replace(' ', '', regex=False)\n",
        "df['Product'] = df['Product'].str.replace(' ', '', regex=False)\n",
        "\n",
        "# Drop duplicates\n",
        "df = df.drop_duplicates()\n",
        "\n"
      ]
    },
    {
      "cell_type": "code",
      "execution_count": 6,
      "metadata": {
        "id": "L_s7fTZFoAyG"
      },
      "outputs": [
        {
          "data": {
            "text/html": [
              "<div>\n",
              "<style scoped>\n",
              "    .dataframe tbody tr th:only-of-type {\n",
              "        vertical-align: middle;\n",
              "    }\n",
              "\n",
              "    .dataframe tbody tr th {\n",
              "        vertical-align: top;\n",
              "    }\n",
              "\n",
              "    .dataframe thead th {\n",
              "        text-align: right;\n",
              "    }\n",
              "</style>\n",
              "<table border=\"1\" class=\"dataframe\">\n",
              "  <thead>\n",
              "    <tr style=\"text-align: right;\">\n",
              "      <th></th>\n",
              "      <th>Reactant</th>\n",
              "      <th>Product</th>\n",
              "    </tr>\n",
              "  </thead>\n",
              "  <tbody>\n",
              "    <tr>\n",
              "      <th>0</th>\n",
              "      <td>COCCBr.O=c1c(O)cn(-c2cccc(C(F)(F)F)c2)nc1-c1cc...</td>\n",
              "      <td>COCCOc1cn(-c2cccc(C(F)(F)F)c2)nc(-c2ccnn2-c2cc...</td>\n",
              "    </tr>\n",
              "    <tr>\n",
              "      <th>1</th>\n",
              "      <td>C1COCCN1.Cc1c(NC(=O)CBr)cccc1[N+](=O)[O-]</td>\n",
              "      <td>Cc1c(NC(=O)CN2CCOCC2)cccc1[N+](=O)[O-]</td>\n",
              "    </tr>\n",
              "    <tr>\n",
              "      <th>2</th>\n",
              "      <td>BrP(Br)Br.CS(=O)(=O)c1ccc(CO)cc1F</td>\n",
              "      <td>CS(=O)(=O)c1ccc(CBr)cc1F</td>\n",
              "    </tr>\n",
              "    <tr>\n",
              "      <th>3</th>\n",
              "      <td>Cc1sc(NCc2ccccc2)c(C#N)c1C.O=C(N=C=S)c1ccccc1</td>\n",
              "      <td>Cc1sc(N(Cc2ccccc2)C(=S)NC(=O)c2ccccc2)c(C#N)c1C</td>\n",
              "    </tr>\n",
              "    <tr>\n",
              "      <th>4</th>\n",
              "      <td>CC(C)(C)OC(=O)NCC(C)(C)c1cc2cc(NC(=O)C3(c4ccc5...</td>\n",
              "      <td>CC(C)(CN)c1cc2cc(NC(=O)C3(c4ccc5c(c4)OCO5)CC3)...</td>\n",
              "    </tr>\n",
              "    <tr>\n",
              "      <th>...</th>\n",
              "      <td>...</td>\n",
              "      <td>...</td>\n",
              "    </tr>\n",
              "    <tr>\n",
              "      <th>7699</th>\n",
              "      <td>CCOC(=O)Nc1nc2ccc(C)cc2nc1OC.Clc1ccccc1N1CCNCC1</td>\n",
              "      <td>COc1nc2cc(C)ccc2nc1NC(=O)N1CCN(c2ccccc2Cl)CC1</td>\n",
              "    </tr>\n",
              "    <tr>\n",
              "      <th>7700</th>\n",
              "      <td>CC(C)(C)c1cccc(O)c1.Cc1cc([N+](=O)[O-])cnc1Cl</td>\n",
              "      <td>Cc1cc([N+](=O)[O-])cnc1Oc1cccc(C(C)(C)C)c1</td>\n",
              "    </tr>\n",
              "    <tr>\n",
              "      <th>7701</th>\n",
              "      <td>COCc1cccc(C(=O)c2nnnn2C)c1.NO</td>\n",
              "      <td>COCc1cccc(C(=NO)c2nnnn2C)c1</td>\n",
              "    </tr>\n",
              "    <tr>\n",
              "      <th>7702</th>\n",
              "      <td>CC(C)(C)OC(=O)N1CCC(=O)CC1.Cn1ccnc1</td>\n",
              "      <td>Cn1ccnc1C1(O)CCN(C(=O)OC(C)(C)C)CC1</td>\n",
              "    </tr>\n",
              "    <tr>\n",
              "      <th>7703</th>\n",
              "      <td>Brc1cn[nH]c1.CC(C)(C)C(=O)Nc1ncccc1I</td>\n",
              "      <td>CC(C)(C)C(=O)Nc1ncccc1-n1cc(Br)cn1</td>\n",
              "    </tr>\n",
              "  </tbody>\n",
              "</table>\n",
              "<p>7642 rows × 2 columns</p>\n",
              "</div>"
            ],
            "text/plain": [
              "                                               Reactant  \\\n",
              "0     COCCBr.O=c1c(O)cn(-c2cccc(C(F)(F)F)c2)nc1-c1cc...   \n",
              "1             C1COCCN1.Cc1c(NC(=O)CBr)cccc1[N+](=O)[O-]   \n",
              "2                     BrP(Br)Br.CS(=O)(=O)c1ccc(CO)cc1F   \n",
              "3         Cc1sc(NCc2ccccc2)c(C#N)c1C.O=C(N=C=S)c1ccccc1   \n",
              "4     CC(C)(C)OC(=O)NCC(C)(C)c1cc2cc(NC(=O)C3(c4ccc5...   \n",
              "...                                                 ...   \n",
              "7699    CCOC(=O)Nc1nc2ccc(C)cc2nc1OC.Clc1ccccc1N1CCNCC1   \n",
              "7700      CC(C)(C)c1cccc(O)c1.Cc1cc([N+](=O)[O-])cnc1Cl   \n",
              "7701                      COCc1cccc(C(=O)c2nnnn2C)c1.NO   \n",
              "7702                CC(C)(C)OC(=O)N1CCC(=O)CC1.Cn1ccnc1   \n",
              "7703               Brc1cn[nH]c1.CC(C)(C)C(=O)Nc1ncccc1I   \n",
              "\n",
              "                                                Product  \n",
              "0     COCCOc1cn(-c2cccc(C(F)(F)F)c2)nc(-c2ccnn2-c2cc...  \n",
              "1                Cc1c(NC(=O)CN2CCOCC2)cccc1[N+](=O)[O-]  \n",
              "2                              CS(=O)(=O)c1ccc(CBr)cc1F  \n",
              "3       Cc1sc(N(Cc2ccccc2)C(=S)NC(=O)c2ccccc2)c(C#N)c1C  \n",
              "4     CC(C)(CN)c1cc2cc(NC(=O)C3(c4ccc5c(c4)OCO5)CC3)...  \n",
              "...                                                 ...  \n",
              "7699      COc1nc2cc(C)ccc2nc1NC(=O)N1CCN(c2ccccc2Cl)CC1  \n",
              "7700         Cc1cc([N+](=O)[O-])cnc1Oc1cccc(C(C)(C)C)c1  \n",
              "7701                        COCc1cccc(C(=NO)c2nnnn2C)c1  \n",
              "7702                Cn1ccnc1C1(O)CCN(C(=O)OC(C)(C)C)CC1  \n",
              "7703                 CC(C)(C)C(=O)Nc1ncccc1-n1cc(Br)cn1  \n",
              "\n",
              "[7642 rows x 2 columns]"
            ]
          },
          "execution_count": 6,
          "metadata": {},
          "output_type": "execute_result"
        }
      ],
      "source": [
        "df"
      ]
    },
    {
      "cell_type": "markdown",
      "metadata": {
        "id": "ezXczon7pjCY"
      },
      "source": [
        "# **EDA Tasks for Reaction Prediction Model**\n",
        "# 1.Number of molecules per reactant - to see if most reactions are single- or multi-molecule.\n",
        "\n"
      ]
    },
    {
      "cell_type": "code",
      "execution_count": 7,
      "metadata": {
        "colab": {
          "base_uri": "https://localhost:8080/",
          "height": 527
        },
        "id": "hxQtVY10mwiz",
        "outputId": "27bb67c6-0306-4dba-8b93-058b119f4db8"
      },
      "outputs": [
        {
          "name": "stderr",
          "output_type": "stream",
          "text": [
            "/var/folders/lw/qcd383dj3nx3f1b88pfwtgl00000gn/T/ipykernel_11798/1982629996.py:1: SettingWithCopyWarning: \n",
            "A value is trying to be set on a copy of a slice from a DataFrame.\n",
            "Try using .loc[row_indexer,col_indexer] = value instead\n",
            "\n",
            "See the caveats in the documentation: https://pandas.pydata.org/pandas-docs/stable/user_guide/indexing.html#returning-a-view-versus-a-copy\n",
            "  df['Reactant_num'] = df['Reactant'].apply(lambda x: len(x.split('.')))\n"
          ]
        },
        {
          "data": {
            "text/html": [
              "<div>\n",
              "<style scoped>\n",
              "    .dataframe tbody tr th:only-of-type {\n",
              "        vertical-align: middle;\n",
              "    }\n",
              "\n",
              "    .dataframe tbody tr th {\n",
              "        vertical-align: top;\n",
              "    }\n",
              "\n",
              "    .dataframe thead th {\n",
              "        text-align: right;\n",
              "    }\n",
              "</style>\n",
              "<table border=\"1\" class=\"dataframe\">\n",
              "  <thead>\n",
              "    <tr style=\"text-align: right;\">\n",
              "      <th></th>\n",
              "      <th>Reactant</th>\n",
              "      <th>Product</th>\n",
              "      <th>Reactant_num</th>\n",
              "    </tr>\n",
              "  </thead>\n",
              "  <tbody>\n",
              "    <tr>\n",
              "      <th>0</th>\n",
              "      <td>COCCBr.O=c1c(O)cn(-c2cccc(C(F)(F)F)c2)nc1-c1cc...</td>\n",
              "      <td>COCCOc1cn(-c2cccc(C(F)(F)F)c2)nc(-c2ccnn2-c2cc...</td>\n",
              "      <td>2</td>\n",
              "    </tr>\n",
              "    <tr>\n",
              "      <th>1</th>\n",
              "      <td>C1COCCN1.Cc1c(NC(=O)CBr)cccc1[N+](=O)[O-]</td>\n",
              "      <td>Cc1c(NC(=O)CN2CCOCC2)cccc1[N+](=O)[O-]</td>\n",
              "      <td>2</td>\n",
              "    </tr>\n",
              "    <tr>\n",
              "      <th>2</th>\n",
              "      <td>BrP(Br)Br.CS(=O)(=O)c1ccc(CO)cc1F</td>\n",
              "      <td>CS(=O)(=O)c1ccc(CBr)cc1F</td>\n",
              "      <td>2</td>\n",
              "    </tr>\n",
              "    <tr>\n",
              "      <th>3</th>\n",
              "      <td>Cc1sc(NCc2ccccc2)c(C#N)c1C.O=C(N=C=S)c1ccccc1</td>\n",
              "      <td>Cc1sc(N(Cc2ccccc2)C(=S)NC(=O)c2ccccc2)c(C#N)c1C</td>\n",
              "      <td>2</td>\n",
              "    </tr>\n",
              "    <tr>\n",
              "      <th>4</th>\n",
              "      <td>CC(C)(C)OC(=O)NCC(C)(C)c1cc2cc(NC(=O)C3(c4ccc5...</td>\n",
              "      <td>CC(C)(CN)c1cc2cc(NC(=O)C3(c4ccc5c(c4)OCO5)CC3)...</td>\n",
              "      <td>1</td>\n",
              "    </tr>\n",
              "    <tr>\n",
              "      <th>...</th>\n",
              "      <td>...</td>\n",
              "      <td>...</td>\n",
              "      <td>...</td>\n",
              "    </tr>\n",
              "    <tr>\n",
              "      <th>7699</th>\n",
              "      <td>CCOC(=O)Nc1nc2ccc(C)cc2nc1OC.Clc1ccccc1N1CCNCC1</td>\n",
              "      <td>COc1nc2cc(C)ccc2nc1NC(=O)N1CCN(c2ccccc2Cl)CC1</td>\n",
              "      <td>2</td>\n",
              "    </tr>\n",
              "    <tr>\n",
              "      <th>7700</th>\n",
              "      <td>CC(C)(C)c1cccc(O)c1.Cc1cc([N+](=O)[O-])cnc1Cl</td>\n",
              "      <td>Cc1cc([N+](=O)[O-])cnc1Oc1cccc(C(C)(C)C)c1</td>\n",
              "      <td>2</td>\n",
              "    </tr>\n",
              "    <tr>\n",
              "      <th>7701</th>\n",
              "      <td>COCc1cccc(C(=O)c2nnnn2C)c1.NO</td>\n",
              "      <td>COCc1cccc(C(=NO)c2nnnn2C)c1</td>\n",
              "      <td>2</td>\n",
              "    </tr>\n",
              "    <tr>\n",
              "      <th>7702</th>\n",
              "      <td>CC(C)(C)OC(=O)N1CCC(=O)CC1.Cn1ccnc1</td>\n",
              "      <td>Cn1ccnc1C1(O)CCN(C(=O)OC(C)(C)C)CC1</td>\n",
              "      <td>2</td>\n",
              "    </tr>\n",
              "    <tr>\n",
              "      <th>7703</th>\n",
              "      <td>Brc1cn[nH]c1.CC(C)(C)C(=O)Nc1ncccc1I</td>\n",
              "      <td>CC(C)(C)C(=O)Nc1ncccc1-n1cc(Br)cn1</td>\n",
              "      <td>2</td>\n",
              "    </tr>\n",
              "  </tbody>\n",
              "</table>\n",
              "<p>7642 rows × 3 columns</p>\n",
              "</div>"
            ],
            "text/plain": [
              "                                               Reactant  \\\n",
              "0     COCCBr.O=c1c(O)cn(-c2cccc(C(F)(F)F)c2)nc1-c1cc...   \n",
              "1             C1COCCN1.Cc1c(NC(=O)CBr)cccc1[N+](=O)[O-]   \n",
              "2                     BrP(Br)Br.CS(=O)(=O)c1ccc(CO)cc1F   \n",
              "3         Cc1sc(NCc2ccccc2)c(C#N)c1C.O=C(N=C=S)c1ccccc1   \n",
              "4     CC(C)(C)OC(=O)NCC(C)(C)c1cc2cc(NC(=O)C3(c4ccc5...   \n",
              "...                                                 ...   \n",
              "7699    CCOC(=O)Nc1nc2ccc(C)cc2nc1OC.Clc1ccccc1N1CCNCC1   \n",
              "7700      CC(C)(C)c1cccc(O)c1.Cc1cc([N+](=O)[O-])cnc1Cl   \n",
              "7701                      COCc1cccc(C(=O)c2nnnn2C)c1.NO   \n",
              "7702                CC(C)(C)OC(=O)N1CCC(=O)CC1.Cn1ccnc1   \n",
              "7703               Brc1cn[nH]c1.CC(C)(C)C(=O)Nc1ncccc1I   \n",
              "\n",
              "                                                Product  Reactant_num  \n",
              "0     COCCOc1cn(-c2cccc(C(F)(F)F)c2)nc(-c2ccnn2-c2cc...             2  \n",
              "1                Cc1c(NC(=O)CN2CCOCC2)cccc1[N+](=O)[O-]             2  \n",
              "2                              CS(=O)(=O)c1ccc(CBr)cc1F             2  \n",
              "3       Cc1sc(N(Cc2ccccc2)C(=S)NC(=O)c2ccccc2)c(C#N)c1C             2  \n",
              "4     CC(C)(CN)c1cc2cc(NC(=O)C3(c4ccc5c(c4)OCO5)CC3)...             1  \n",
              "...                                                 ...           ...  \n",
              "7699      COc1nc2cc(C)ccc2nc1NC(=O)N1CCN(c2ccccc2Cl)CC1             2  \n",
              "7700         Cc1cc([N+](=O)[O-])cnc1Oc1cccc(C(C)(C)C)c1             2  \n",
              "7701                        COCc1cccc(C(=NO)c2nnnn2C)c1             2  \n",
              "7702                Cn1ccnc1C1(O)CCN(C(=O)OC(C)(C)C)CC1             2  \n",
              "7703                 CC(C)(C)C(=O)Nc1ncccc1-n1cc(Br)cn1             2  \n",
              "\n",
              "[7642 rows x 3 columns]"
            ]
          },
          "execution_count": 7,
          "metadata": {},
          "output_type": "execute_result"
        }
      ],
      "source": [
        "df['Reactant_num'] = df['Reactant'].apply(lambda x: len(x.split('.')))\n",
        "df\n"
      ]
    },
    {
      "cell_type": "code",
      "execution_count": 8,
      "metadata": {
        "colab": {
          "base_uri": "https://localhost:8080/",
          "height": 272
        },
        "id": "RdDzSVeAhMJM",
        "outputId": "efcccd73-d5d1-4996-cb20-8188ea8cff1a"
      },
      "outputs": [
        {
          "data": {
            "text/plain": [
              "Reactant_num\n",
              "2    5599\n",
              "1    1932\n",
              "3     102\n",
              "4       8\n",
              "5       1\n",
              "Name: count, dtype: int64"
            ]
          },
          "execution_count": 8,
          "metadata": {},
          "output_type": "execute_result"
        }
      ],
      "source": [
        "df['Reactant_num'].value_counts()\n"
      ]
    },
    {
      "cell_type": "code",
      "execution_count": 9,
      "metadata": {
        "colab": {
          "base_uri": "https://localhost:8080/",
          "height": 682
        },
        "id": "K1RhTYAPhlSP",
        "outputId": "8a324528-bb75-4488-d99a-dba1d64f6336"
      },
      "outputs": [
        {
          "data": {
            "text/html": [
              "<div>\n",
              "<style scoped>\n",
              "    .dataframe tbody tr th:only-of-type {\n",
              "        vertical-align: middle;\n",
              "    }\n",
              "\n",
              "    .dataframe tbody tr th {\n",
              "        vertical-align: top;\n",
              "    }\n",
              "\n",
              "    .dataframe thead th {\n",
              "        text-align: right;\n",
              "    }\n",
              "</style>\n",
              "<table border=\"1\" class=\"dataframe\">\n",
              "  <thead>\n",
              "    <tr style=\"text-align: right;\">\n",
              "      <th></th>\n",
              "      <th>Reactant</th>\n",
              "      <th>Product</th>\n",
              "      <th>Reactant_num</th>\n",
              "    </tr>\n",
              "  </thead>\n",
              "  <tbody>\n",
              "    <tr>\n",
              "      <th>4</th>\n",
              "      <td>CC(C)(C)OC(=O)NCC(C)(C)c1cc2cc(NC(=O)C3(c4ccc5...</td>\n",
              "      <td>CC(C)(CN)c1cc2cc(NC(=O)C3(c4ccc5c(c4)OCO5)CC3)...</td>\n",
              "      <td>1</td>\n",
              "    </tr>\n",
              "    <tr>\n",
              "      <th>6</th>\n",
              "      <td>COC(=O)c1cccc(Nc2ccc(C(C)(C)C)cc2)c1C(=O)OC</td>\n",
              "      <td>CC(C)(C)c1ccc(Nc2cccc(C(=O)O)c2C(=O)O)cc1</td>\n",
              "      <td>1</td>\n",
              "    </tr>\n",
              "    <tr>\n",
              "      <th>9</th>\n",
              "      <td>CCOC(=O)c1ccc(-n2ccc3ccc(C=O)cc32)cc1</td>\n",
              "      <td>CCOC(=O)c1ccc(-n2ccc3ccc(CO)cc32)cc1</td>\n",
              "      <td>1</td>\n",
              "    </tr>\n",
              "    <tr>\n",
              "      <th>12</th>\n",
              "      <td>C=CC1(C(O[SiH2]C(C)(C)C)(c2ccccc2)c2ccccc2)OC(...</td>\n",
              "      <td>C=CC1(C(O[SiH2]C(C)(C)C)(c2ccccc2)c2ccccc2)OC(...</td>\n",
              "      <td>1</td>\n",
              "    </tr>\n",
              "    <tr>\n",
              "      <th>15</th>\n",
              "      <td>CC(C)(C)OC(=O)N1CC(F)(c2ccc(C3=NOC(c4cc(Cl)c(C...</td>\n",
              "      <td>FC1(c2ccc(C3=NOC(c4cc(Cl)c(Cl)c(Cl)c4)(C(F)(F)...</td>\n",
              "      <td>1</td>\n",
              "    </tr>\n",
              "    <tr>\n",
              "      <th>...</th>\n",
              "      <td>...</td>\n",
              "      <td>...</td>\n",
              "      <td>...</td>\n",
              "    </tr>\n",
              "    <tr>\n",
              "      <th>7673</th>\n",
              "      <td>N#Cc1cccc2occc12</td>\n",
              "      <td>NCc1cccc2occc12</td>\n",
              "      <td>1</td>\n",
              "    </tr>\n",
              "    <tr>\n",
              "      <th>7674</th>\n",
              "      <td>CCOC(=O)c1c(C)ccnc1C</td>\n",
              "      <td>Cc1ccnc(C)c1CO</td>\n",
              "      <td>1</td>\n",
              "    </tr>\n",
              "    <tr>\n",
              "      <th>7675</th>\n",
              "      <td>CCOC(=O)c1cn2c(C(=O)NCC34CC5CC(CC(C5)C3)C4)ccc...</td>\n",
              "      <td>O=C(O)c1cn2c(C(=O)NCC34CC5CC(CC(C5)C3)C4)cccc2n1</td>\n",
              "      <td>1</td>\n",
              "    </tr>\n",
              "    <tr>\n",
              "      <th>7678</th>\n",
              "      <td>COc1cnc2c(c1)c(C(=O)N1CCN(C(=O)OC(C)(C)C)CC1)c...</td>\n",
              "      <td>COc1cnc2c(c1)c(C(=O)N1CCNCC1)c(Oc1cc(F)ccc1C)n...</td>\n",
              "      <td>1</td>\n",
              "    </tr>\n",
              "    <tr>\n",
              "      <th>7685</th>\n",
              "      <td>CC(C)(C)OC(=O)N1CCc2ccc(Cl)c(SCCCc3ccc4c(c3)C(...</td>\n",
              "      <td>CC1(C)C(=O)Nc2ccc(CCCSc3c(Cl)ccc4c3CCNCC4)cc21</td>\n",
              "      <td>1</td>\n",
              "    </tr>\n",
              "  </tbody>\n",
              "</table>\n",
              "<p>1932 rows × 3 columns</p>\n",
              "</div>"
            ],
            "text/plain": [
              "                                               Reactant  \\\n",
              "4     CC(C)(C)OC(=O)NCC(C)(C)c1cc2cc(NC(=O)C3(c4ccc5...   \n",
              "6           COC(=O)c1cccc(Nc2ccc(C(C)(C)C)cc2)c1C(=O)OC   \n",
              "9                 CCOC(=O)c1ccc(-n2ccc3ccc(C=O)cc32)cc1   \n",
              "12    C=CC1(C(O[SiH2]C(C)(C)C)(c2ccccc2)c2ccccc2)OC(...   \n",
              "15    CC(C)(C)OC(=O)N1CC(F)(c2ccc(C3=NOC(c4cc(Cl)c(C...   \n",
              "...                                                 ...   \n",
              "7673                                   N#Cc1cccc2occc12   \n",
              "7674                               CCOC(=O)c1c(C)ccnc1C   \n",
              "7675  CCOC(=O)c1cn2c(C(=O)NCC34CC5CC(CC(C5)C3)C4)ccc...   \n",
              "7678  COc1cnc2c(c1)c(C(=O)N1CCN(C(=O)OC(C)(C)C)CC1)c...   \n",
              "7685  CC(C)(C)OC(=O)N1CCc2ccc(Cl)c(SCCCc3ccc4c(c3)C(...   \n",
              "\n",
              "                                                Product  Reactant_num  \n",
              "4     CC(C)(CN)c1cc2cc(NC(=O)C3(c4ccc5c(c4)OCO5)CC3)...             1  \n",
              "6             CC(C)(C)c1ccc(Nc2cccc(C(=O)O)c2C(=O)O)cc1             1  \n",
              "9                  CCOC(=O)c1ccc(-n2ccc3ccc(CO)cc32)cc1             1  \n",
              "12    C=CC1(C(O[SiH2]C(C)(C)C)(c2ccccc2)c2ccccc2)OC(...             1  \n",
              "15    FC1(c2ccc(C3=NOC(c4cc(Cl)c(Cl)c(Cl)c4)(C(F)(F)...             1  \n",
              "...                                                 ...           ...  \n",
              "7673                                    NCc1cccc2occc12             1  \n",
              "7674                                     Cc1ccnc(C)c1CO             1  \n",
              "7675   O=C(O)c1cn2c(C(=O)NCC34CC5CC(CC(C5)C3)C4)cccc2n1             1  \n",
              "7678  COc1cnc2c(c1)c(C(=O)N1CCNCC1)c(Oc1cc(F)ccc1C)n...             1  \n",
              "7685     CC1(C)C(=O)Nc2ccc(CCCSc3c(Cl)ccc4c3CCNCC4)cc21             1  \n",
              "\n",
              "[1932 rows x 3 columns]"
            ]
          },
          "execution_count": 9,
          "metadata": {},
          "output_type": "execute_result"
        }
      ],
      "source": [
        "df[df[\"Reactant_num\"] ==1]"
      ]
    },
    {
      "cell_type": "markdown",
      "metadata": {
        "id": "3pR5uBNAqM2k"
      },
      "source": [
        "# 2. Length of reactant and product SMILES - to check text complexity of input vs output."
      ]
    },
    {
      "cell_type": "code",
      "execution_count": 10,
      "metadata": {
        "colab": {
          "base_uri": "https://localhost:8080/"
        },
        "id": "tiV-wWJmqb-R",
        "outputId": "85b7d667-48fc-4a5c-ff8c-70bef6cc14ae"
      },
      "outputs": [
        {
          "name": "stdout",
          "output_type": "stream",
          "text": [
            "Average reactant length: 47.517534676786184\n",
            "Average product length: 41.20073279246271\n"
          ]
        },
        {
          "name": "stderr",
          "output_type": "stream",
          "text": [
            "/var/folders/lw/qcd383dj3nx3f1b88pfwtgl00000gn/T/ipykernel_11798/899905577.py:1: SettingWithCopyWarning: \n",
            "A value is trying to be set on a copy of a slice from a DataFrame.\n",
            "Try using .loc[row_indexer,col_indexer] = value instead\n",
            "\n",
            "See the caveats in the documentation: https://pandas.pydata.org/pandas-docs/stable/user_guide/indexing.html#returning-a-view-versus-a-copy\n",
            "  df['Reactant_len'] = df['Reactant'].apply(len)\n",
            "/var/folders/lw/qcd383dj3nx3f1b88pfwtgl00000gn/T/ipykernel_11798/899905577.py:2: SettingWithCopyWarning: \n",
            "A value is trying to be set on a copy of a slice from a DataFrame.\n",
            "Try using .loc[row_indexer,col_indexer] = value instead\n",
            "\n",
            "See the caveats in the documentation: https://pandas.pydata.org/pandas-docs/stable/user_guide/indexing.html#returning-a-view-versus-a-copy\n",
            "  df['Product_len'] = df['Product'].apply(len)\n"
          ]
        }
      ],
      "source": [
        "df['Reactant_len'] = df['Reactant'].apply(len)\n",
        "df['Product_len'] = df['Product'].apply(len)\n",
        "avg_reactant = df['Reactant_len'].mean()\n",
        "avg_product = df['Product_len'].mean()\n",
        "print(f'Average reactant length: {avg_reactant}')\n",
        "print(f'Average product length: {avg_product}')"
      ]
    },
    {
      "cell_type": "markdown",
      "metadata": {
        "id": "dUiE9ClUsUcI"
      },
      "source": [
        "# 3.Distribution of Molecular Properties"
      ]
    },
    {
      "cell_type": "code",
      "execution_count": 11,
      "metadata": {
        "id": "gcWZi_0csaEZ"
      },
      "outputs": [
        {
          "name": "stderr",
          "output_type": "stream",
          "text": [
            "/var/folders/lw/qcd383dj3nx3f1b88pfwtgl00000gn/T/ipykernel_11798/349150562.py:3: SettingWithCopyWarning: \n",
            "A value is trying to be set on a copy of a slice from a DataFrame.\n",
            "Try using .loc[row_indexer,col_indexer] = value instead\n",
            "\n",
            "See the caveats in the documentation: https://pandas.pydata.org/pandas-docs/stable/user_guide/indexing.html#returning-a-view-versus-a-copy\n",
            "  df['reactant_mols'] = df['Reactant'].apply(get_mols)\n",
            "/var/folders/lw/qcd383dj3nx3f1b88pfwtgl00000gn/T/ipykernel_11798/349150562.py:4: SettingWithCopyWarning: \n",
            "A value is trying to be set on a copy of a slice from a DataFrame.\n",
            "Try using .loc[row_indexer,col_indexer] = value instead\n",
            "\n",
            "See the caveats in the documentation: https://pandas.pydata.org/pandas-docs/stable/user_guide/indexing.html#returning-a-view-versus-a-copy\n",
            "  df['product_mol'] = df['Product'].apply(lambda x: Chem.MolFromSmiles(x))\n"
          ]
        }
      ],
      "source": [
        "def get_mols(smiles):\n",
        "    return [Chem.MolFromSmiles(s) for s in smiles.split('.') if Chem.MolFromSmiles(s)]\n",
        "df['reactant_mols'] = df['Reactant'].apply(get_mols)\n",
        "df['product_mol'] = df['Product'].apply(lambda x: Chem.MolFromSmiles(x))\n",
        "\n",
        "#Takes a SMILES string that might represent multiple molecules separated by \".\"\n",
        "#Splits the string into individual molecule SMILES (e.g., \"CCO.O=C=O\" → \"CCO\", \"O=C=O\")\n",
        "#Applies Chem.MolFromSmiles(s) from RDKit to convert each into a Mol object\n",
        "#Filters out invalid SMILES (i.e., if MolFromSmiles returns None)"
      ]
    },
    {
      "cell_type": "code",
      "execution_count": 12,
      "metadata": {
        "id": "zfXItbHrua6e"
      },
      "outputs": [
        {
          "name": "stderr",
          "output_type": "stream",
          "text": [
            "/var/folders/lw/qcd383dj3nx3f1b88pfwtgl00000gn/T/ipykernel_11798/2548516754.py:5: SettingWithCopyWarning: \n",
            "A value is trying to be set on a copy of a slice from a DataFrame.\n",
            "Try using .loc[row_indexer,col_indexer] = value instead\n",
            "\n",
            "See the caveats in the documentation: https://pandas.pydata.org/pandas-docs/stable/user_guide/indexing.html#returning-a-view-versus-a-copy\n",
            "  df['reactant_MW'] = df['reactant_mols'].apply(lambda mols: total_mol_property(mols, Descriptors.MolWt))\n",
            "/var/folders/lw/qcd383dj3nx3f1b88pfwtgl00000gn/T/ipykernel_11798/2548516754.py:8: SettingWithCopyWarning: \n",
            "A value is trying to be set on a copy of a slice from a DataFrame.\n",
            "Try using .loc[row_indexer,col_indexer] = value instead\n",
            "\n",
            "See the caveats in the documentation: https://pandas.pydata.org/pandas-docs/stable/user_guide/indexing.html#returning-a-view-versus-a-copy\n",
            "  df['product_MW'] = df['product_mol'].apply(Descriptors.MolWt)\n",
            "/var/folders/lw/qcd383dj3nx3f1b88pfwtgl00000gn/T/ipykernel_11798/2548516754.py:11: SettingWithCopyWarning: \n",
            "A value is trying to be set on a copy of a slice from a DataFrame.\n",
            "Try using .loc[row_indexer,col_indexer] = value instead\n",
            "\n",
            "See the caveats in the documentation: https://pandas.pydata.org/pandas-docs/stable/user_guide/indexing.html#returning-a-view-versus-a-copy\n",
            "  df['reactant_LogP'] = df['reactant_mols'].apply(lambda mols: total_mol_property(mols, Descriptors.MolLogP))\n",
            "/var/folders/lw/qcd383dj3nx3f1b88pfwtgl00000gn/T/ipykernel_11798/2548516754.py:14: SettingWithCopyWarning: \n",
            "A value is trying to be set on a copy of a slice from a DataFrame.\n",
            "Try using .loc[row_indexer,col_indexer] = value instead\n",
            "\n",
            "See the caveats in the documentation: https://pandas.pydata.org/pandas-docs/stable/user_guide/indexing.html#returning-a-view-versus-a-copy\n",
            "  df['product_LogP'] = df['product_mol'].apply(Descriptors.MolLogP)\n"
          ]
        }
      ],
      "source": [
        "def total_mol_property(mols, prop_fn):\n",
        "    return sum(prop_fn(m) for m in mols if m)\n",
        "#if a reactant has 2 molecules, their property values are added together\n",
        "\n",
        "df['reactant_MW'] = df['reactant_mols'].apply(lambda mols: total_mol_property(mols, Descriptors.MolWt))\n",
        "#Total molecular weight of all reactants in a reaction\n",
        "\n",
        "df['product_MW'] = df['product_mol'].apply(Descriptors.MolWt)\n",
        "#Molecular weight of the single product molecule\n",
        "\n",
        "df['reactant_LogP'] = df['reactant_mols'].apply(lambda mols: total_mol_property(mols, Descriptors.MolLogP))\n",
        "#Total LogP (lipophilicity) of all reactants\n",
        "\n",
        "df['product_LogP'] = df['product_mol'].apply(Descriptors.MolLogP)\n",
        "# LogP of the product"
      ]
    },
    {
      "cell_type": "code",
      "execution_count": 13,
      "metadata": {
        "colab": {
          "base_uri": "https://localhost:8080/",
          "height": 399
        },
        "id": "ND_sZOynukj-",
        "outputId": "27fb12e5-b5d9-42dc-cbb0-ffc4095d8d16"
      },
      "outputs": [
        {
          "data": {
            "text/html": [
              "<div>\n",
              "<style scoped>\n",
              "    .dataframe tbody tr th:only-of-type {\n",
              "        vertical-align: middle;\n",
              "    }\n",
              "\n",
              "    .dataframe tbody tr th {\n",
              "        vertical-align: top;\n",
              "    }\n",
              "\n",
              "    .dataframe thead th {\n",
              "        text-align: right;\n",
              "    }\n",
              "</style>\n",
              "<table border=\"1\" class=\"dataframe\">\n",
              "  <thead>\n",
              "    <tr style=\"text-align: right;\">\n",
              "      <th></th>\n",
              "      <th>Reactant</th>\n",
              "      <th>Product</th>\n",
              "      <th>Reactant_num</th>\n",
              "      <th>Reactant_len</th>\n",
              "      <th>Product_len</th>\n",
              "      <th>reactant_mols</th>\n",
              "      <th>product_mol</th>\n",
              "      <th>reactant_MW</th>\n",
              "      <th>product_MW</th>\n",
              "      <th>reactant_LogP</th>\n",
              "      <th>product_LogP</th>\n",
              "    </tr>\n",
              "  </thead>\n",
              "  <tbody>\n",
              "    <tr>\n",
              "      <th>7699</th>\n",
              "      <td>CCOC(=O)Nc1nc2ccc(C)cc2nc1OC.Clc1ccccc1N1CCNCC1</td>\n",
              "      <td>COc1nc2cc(C)ccc2nc1NC(=O)N1CCN(c2ccccc2Cl)CC1</td>\n",
              "      <td>2</td>\n",
              "      <td>47</td>\n",
              "      <td>45</td>\n",
              "      <td>[&lt;rdkit.Chem.rdchem.Mol object at 0x165026260&gt;...</td>\n",
              "      <td>&lt;rdkit.Chem.rdchem.Mol object at 0x16deacc80&gt;</td>\n",
              "      <td>457.962</td>\n",
              "      <td>411.893</td>\n",
              "      <td>4.26482</td>\n",
              "      <td>3.95432</td>\n",
              "    </tr>\n",
              "    <tr>\n",
              "      <th>7700</th>\n",
              "      <td>CC(C)(C)c1cccc(O)c1.Cc1cc([N+](=O)[O-])cnc1Cl</td>\n",
              "      <td>Cc1cc([N+](=O)[O-])cnc1Oc1cccc(C(C)(C)C)c1</td>\n",
              "      <td>2</td>\n",
              "      <td>45</td>\n",
              "      <td>42</td>\n",
              "      <td>[&lt;rdkit.Chem.rdchem.Mol object at 0x165026180&gt;...</td>\n",
              "      <td>&lt;rdkit.Chem.rdchem.Mol object at 0x16deaccf0&gt;</td>\n",
              "      <td>322.792</td>\n",
              "      <td>286.331</td>\n",
              "      <td>4.64132</td>\n",
              "      <td>4.38802</td>\n",
              "    </tr>\n",
              "    <tr>\n",
              "      <th>7701</th>\n",
              "      <td>COCc1cccc(C(=O)c2nnnn2C)c1.NO</td>\n",
              "      <td>COCc1cccc(C(=NO)c2nnnn2C)c1</td>\n",
              "      <td>2</td>\n",
              "      <td>29</td>\n",
              "      <td>27</td>\n",
              "      <td>[&lt;rdkit.Chem.rdchem.Mol object at 0x1650260a0&gt;...</td>\n",
              "      <td>&lt;rdkit.Chem.rdchem.Mol object at 0x16deacd60&gt;</td>\n",
              "      <td>265.273</td>\n",
              "      <td>247.258</td>\n",
              "      <td>-0.07820</td>\n",
              "      <td>0.58310</td>\n",
              "    </tr>\n",
              "    <tr>\n",
              "      <th>7702</th>\n",
              "      <td>CC(C)(C)OC(=O)N1CCC(=O)CC1.Cn1ccnc1</td>\n",
              "      <td>Cn1ccnc1C1(O)CCN(C(=O)OC(C)(C)C)CC1</td>\n",
              "      <td>2</td>\n",
              "      <td>35</td>\n",
              "      <td>35</td>\n",
              "      <td>[&lt;rdkit.Chem.rdchem.Mol object at 0x165025fc0&gt;...</td>\n",
              "      <td>&lt;rdkit.Chem.rdchem.Mol object at 0x16deacdd0&gt;</td>\n",
              "      <td>281.356</td>\n",
              "      <td>281.356</td>\n",
              "      <td>2.00650</td>\n",
              "      <td>1.63860</td>\n",
              "    </tr>\n",
              "    <tr>\n",
              "      <th>7703</th>\n",
              "      <td>Brc1cn[nH]c1.CC(C)(C)C(=O)Nc1ncccc1I</td>\n",
              "      <td>CC(C)(C)C(=O)Nc1ncccc1-n1cc(Br)cn1</td>\n",
              "      <td>2</td>\n",
              "      <td>36</td>\n",
              "      <td>34</td>\n",
              "      <td>[&lt;rdkit.Chem.rdchem.Mol object at 0x165025ee0&gt;...</td>\n",
              "      <td>&lt;rdkit.Chem.rdchem.Mol object at 0x16deace40&gt;</td>\n",
              "      <td>451.106</td>\n",
              "      <td>323.194</td>\n",
              "      <td>3.84300</td>\n",
              "      <td>3.01440</td>\n",
              "    </tr>\n",
              "  </tbody>\n",
              "</table>\n",
              "</div>"
            ],
            "text/plain": [
              "                                             Reactant  \\\n",
              "7699  CCOC(=O)Nc1nc2ccc(C)cc2nc1OC.Clc1ccccc1N1CCNCC1   \n",
              "7700    CC(C)(C)c1cccc(O)c1.Cc1cc([N+](=O)[O-])cnc1Cl   \n",
              "7701                    COCc1cccc(C(=O)c2nnnn2C)c1.NO   \n",
              "7702              CC(C)(C)OC(=O)N1CCC(=O)CC1.Cn1ccnc1   \n",
              "7703             Brc1cn[nH]c1.CC(C)(C)C(=O)Nc1ncccc1I   \n",
              "\n",
              "                                            Product  Reactant_num  \\\n",
              "7699  COc1nc2cc(C)ccc2nc1NC(=O)N1CCN(c2ccccc2Cl)CC1             2   \n",
              "7700     Cc1cc([N+](=O)[O-])cnc1Oc1cccc(C(C)(C)C)c1             2   \n",
              "7701                    COCc1cccc(C(=NO)c2nnnn2C)c1             2   \n",
              "7702            Cn1ccnc1C1(O)CCN(C(=O)OC(C)(C)C)CC1             2   \n",
              "7703             CC(C)(C)C(=O)Nc1ncccc1-n1cc(Br)cn1             2   \n",
              "\n",
              "      Reactant_len  Product_len  \\\n",
              "7699            47           45   \n",
              "7700            45           42   \n",
              "7701            29           27   \n",
              "7702            35           35   \n",
              "7703            36           34   \n",
              "\n",
              "                                          reactant_mols  \\\n",
              "7699  [<rdkit.Chem.rdchem.Mol object at 0x165026260>...   \n",
              "7700  [<rdkit.Chem.rdchem.Mol object at 0x165026180>...   \n",
              "7701  [<rdkit.Chem.rdchem.Mol object at 0x1650260a0>...   \n",
              "7702  [<rdkit.Chem.rdchem.Mol object at 0x165025fc0>...   \n",
              "7703  [<rdkit.Chem.rdchem.Mol object at 0x165025ee0>...   \n",
              "\n",
              "                                        product_mol  reactant_MW  product_MW  \\\n",
              "7699  <rdkit.Chem.rdchem.Mol object at 0x16deacc80>      457.962     411.893   \n",
              "7700  <rdkit.Chem.rdchem.Mol object at 0x16deaccf0>      322.792     286.331   \n",
              "7701  <rdkit.Chem.rdchem.Mol object at 0x16deacd60>      265.273     247.258   \n",
              "7702  <rdkit.Chem.rdchem.Mol object at 0x16deacdd0>      281.356     281.356   \n",
              "7703  <rdkit.Chem.rdchem.Mol object at 0x16deace40>      451.106     323.194   \n",
              "\n",
              "      reactant_LogP  product_LogP  \n",
              "7699        4.26482       3.95432  \n",
              "7700        4.64132       4.38802  \n",
              "7701       -0.07820       0.58310  \n",
              "7702        2.00650       1.63860  \n",
              "7703        3.84300       3.01440  "
            ]
          },
          "execution_count": 13,
          "metadata": {},
          "output_type": "execute_result"
        }
      ],
      "source": [
        "df.tail()"
      ]
    },
    {
      "cell_type": "markdown",
      "metadata": {
        "id": "YzM85FUjISi8"
      },
      "source": [
        "# 4.Visualization"
      ]
    },
    {
      "cell_type": "code",
      "execution_count": 14,
      "metadata": {
        "colab": {
          "base_uri": "https://localhost:8080/",
          "height": 466
        },
        "id": "WxOELEPN0rgU",
        "outputId": "43a011e7-f09e-4f68-aa0a-1b403f931360"
      },
      "outputs": [
        {
          "data": {
            "text/plain": [
              "<Axes: xlabel='reactant_MW', ylabel='Count'>"
            ]
          },
          "execution_count": 14,
          "metadata": {},
          "output_type": "execute_result"
        },
        {
          "data": {
            "image/png": "[encoded data removed]",
            "text/plain": [
              "<Figure size 640x480 with 1 Axes>"
            ]
          },
          "metadata": {},
          "output_type": "display_data"
        }
      ],
      "source": [
        "sns.histplot(df['reactant_MW'], kde=True, color='blue')\n",
        "sns.histplot(df['product_MW'], kde=True, color='green')\n",
        "\n",
        "sns.scatterplot(x='reactant_MW', y='product_MW', data=df)"
      ]
    },
    {
      "cell_type": "markdown",
      "metadata": {},
      "source": [
        "### Distribution of Reactant Molecular Weights\n",
        "\n",
        "This plot visualizes the distribution of molecular weights (MW) of the reactants in the dataset.\n",
        "\n",
        "- The green histogram represents the frequency of reactants falling within specific molecular weight bins.\n",
        "- The overlaid green KDE curve shows the smoothed probability density.\n",
        "- The blue scatter points represent individual data entries, providing a clearer picture of data density and spread.\n",
        "- The blue histogram (if applicable) might indicate a comparison group (e.g., product MWs).\n",
        "\n",
        "**Key Observations:**\n",
        "- Most reactants have molecular weights between 250 and 550 g/mol.\n",
        "- The distribution is right-skewed with a few outliers reaching up to 1600 g/mol.\n",
        "- These outliers may be structurally complex molecules and may require special handling or filtering during modeling.\n"
      ]
    },
    {
      "cell_type": "markdown",
      "metadata": {
        "id": "TCsT3H8FE0pN"
      },
      "source": [
        "# 5.Methods to Detect Outliers"
      ]
    },
    {
      "cell_type": "code",
      "execution_count": 15,
      "metadata": {
        "colab": {
          "base_uri": "https://localhost:8080/",
          "height": 472
        },
        "id": "OIEMIkytFcOn",
        "outputId": "5fe52bad-fd15-4b6b-a771-2b764395b0f5"
      },
      "outputs": [
        {
          "data": {
            "image/png": "[encoded data removed]",
            "text/plain": [
              "<Figure size 640x480 with 1 Axes>"
            ]
          },
          "metadata": {},
          "output_type": "display_data"
        }
      ],
      "source": [
        "sns.boxplot(x=df['reactant_MW'])\n",
        "plt.title('Boxplot of Reactant Molecular Weight')\n",
        "plt.show()"
      ]
    },
    {
      "cell_type": "markdown",
      "metadata": {},
      "source": [
        "### Boxplot of Reactant Molecular Weights\n",
        "\n",
        "The boxplot provides a summary of the distribution of molecular weights for reactants:\n",
        "\n",
        "- The **box** represents the interquartile range (IQR), which contains the middle 50% of values.\n",
        "- The **median** (middle line) is around 400 g/mol, indicating that most molecules have moderate weights.\n",
        "- **Whiskers** extend to values within 1.5 × IQR from the box edges.\n",
        "- **Outliers** beyond the whiskers are clearly visible and represent molecules with unusually high molecular weights (up to 1600 g/mol).\n",
        "\n",
        "These outliers may need special consideration during modeling, such as normalization, filtering, or log-scaling of molecular weights.\n"
      ]
    },
    {
      "cell_type": "code",
      "execution_count": 16,
      "metadata": {
        "id": "eygXfuCuD3Th"
      },
      "outputs": [
        {
          "name": "stderr",
          "output_type": "stream",
          "text": [
            "/var/folders/lw/qcd383dj3nx3f1b88pfwtgl00000gn/T/ipykernel_11798/4025237025.py:4: SettingWithCopyWarning: \n",
            "A value is trying to be set on a copy of a slice from a DataFrame.\n",
            "Try using .loc[row_indexer,col_indexer] = value instead\n",
            "\n",
            "See the caveats in the documentation: https://pandas.pydata.org/pandas-docs/stable/user_guide/indexing.html#returning-a-view-versus-a-copy\n",
            "  df['reactant_zscore'] = zscore(df['reactant_MW'])\n"
          ]
        }
      ],
      "source": [
        "#1. Z-score Method: Outliers are points more than 3 standard deviations from the mean.\n",
        "\n",
        "\n",
        "df['reactant_zscore'] = zscore(df['reactant_MW'])\n",
        "outliers_z = df[abs(df['reactant_zscore']) > 3]\n",
        "\n",
        "#2. IQR Method (Interquartile Range): Outliers lie below Q1 - 1.5×IQR or above Q3 + 1.5×IQR.\n",
        "Q1 = df['reactant_MW'].quantile(0.25)\n",
        "Q3 = df['reactant_MW'].quantile(0.75)\n",
        "IQR = Q3 - Q1\n",
        "\n",
        "lower_bound = Q1 - 1.5 * IQR\n",
        "upper_bound = Q3 + 1.5 * IQR\n",
        "\n",
        "outliers_iqr = df[(df['reactant_MW'] < lower_bound) | (df['reactant_MW'] > upper_bound)]\n",
        "\n"
      ]
    },
    {
      "cell_type": "markdown",
      "metadata": {
        "id": "plPwhhc0MPXy"
      },
      "source": [
        "Outliers in chemical datasets (e.g., extreme molecular weights or LogP values) can significantly affect data analysis and model performance. Handling them depends on the context and purpose:\n",
        "\n",
        "\n",
        "* Keep the Outliers\n",
        "Retain them if they represent valid, rare chemical cases or if full data variability is needed for exploratory analysis.\n",
        "* Remove the Outliers\n",
        "Eliminate extreme values if they stem from data entry or parsing errors, or to improve the robustness of sensitive ML models.\n",
        "* Cap or Winsorize\n",
        "Replace extreme values with defined percentile-based limits to reduce their influence without removing data\n",
        "*Apply Transformations\n",
        "Use transformations (like log, sqrt) to reduce skewness in molecular descriptors and stabilize variance\n",
        "* Use Robust Models\n",
        "Algorithms like Random Forests or Gradient Boosted Trees handle outliers better without preprocessing.\n",
        "\n",
        "\n",
        "\n",
        "\n",
        "\n"
      ]
    },
    {
      "cell_type": "markdown",
      "metadata": {
        "id": "Q05OAspOJK7D"
      },
      "source": [
        "# 6 .Data Quality Checks"
      ]
    },
    {
      "cell_type": "code",
      "execution_count": 17,
      "metadata": {
        "colab": {
          "base_uri": "https://localhost:8080/"
        },
        "id": "aB9J4lqBJI7L",
        "outputId": "5e75ea09-c7df-4516-cd71-b443424331e0"
      },
      "outputs": [
        {
          "name": "stdout",
          "output_type": "stream",
          "text": [
            "Invalid rows: 0\n"
          ]
        },
        {
          "name": "stderr",
          "output_type": "stream",
          "text": [
            "/var/folders/lw/qcd383dj3nx3f1b88pfwtgl00000gn/T/ipykernel_11798/4150495390.py:1: SettingWithCopyWarning: \n",
            "A value is trying to be set on a copy of a slice from a DataFrame.\n",
            "Try using .loc[row_indexer,col_indexer] = value instead\n",
            "\n",
            "See the caveats in the documentation: https://pandas.pydata.org/pandas-docs/stable/user_guide/indexing.html#returning-a-view-versus-a-copy\n",
            "  df['reactant_valid'] = df['reactant_mols'].apply(lambda mols: all(m is not None for m in mols))\n",
            "/var/folders/lw/qcd383dj3nx3f1b88pfwtgl00000gn/T/ipykernel_11798/4150495390.py:2: SettingWithCopyWarning: \n",
            "A value is trying to be set on a copy of a slice from a DataFrame.\n",
            "Try using .loc[row_indexer,col_indexer] = value instead\n",
            "\n",
            "See the caveats in the documentation: https://pandas.pydata.org/pandas-docs/stable/user_guide/indexing.html#returning-a-view-versus-a-copy\n",
            "  df['product_valid'] = df['product_mol'].apply(lambda m: m is not None)\n"
          ]
        }
      ],
      "source": [
        "df['reactant_valid'] = df['reactant_mols'].apply(lambda mols: all(m is not None for m in mols))\n",
        "df['product_valid'] = df['product_mol'].apply(lambda m: m is not None)\n",
        "\n",
        "invalid_rows = df[~df['reactant_valid'] | ~df['product_valid']]\n",
        "print(f\"Invalid rows: {len(invalid_rows)}\")\n"
      ]
    }
  ],
  "metadata": {
    "colab": {
      "provenance": []
    },
    "kernelspec": {
      "display_name": "Python 3",
      "language": "python",
      "name": "python3"
    },
    "language_info": {
      "codemirror_mode": {
        "name": "ipython",
        "version": 3
      },
      "file_extension": ".py",
      "mimetype": "text/x-python",
      "name": "python",
      "nbconvert_exporter": "python",
      "pygments_lexer": "ipython3",
      "version": "3.13.5"
    }
  },
  "nbformat": 4,
  "nbformat_minor": 0
}
